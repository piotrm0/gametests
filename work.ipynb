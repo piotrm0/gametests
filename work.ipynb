{
 "cells": [
  {
   "cell_type": "code",
   "execution_count": null,
   "metadata": {},
   "outputs": [],
   "source": [
    "# !pip install jupylet"
   ]
  },
  {
   "cell_type": "code",
   "execution_count": 86,
   "metadata": {},
   "outputs": [],
   "source": [
    "from jupylet.label import Label\n",
    "from jupylet.app import App"
   ]
  },
  {
   "cell_type": "code",
   "execution_count": 87,
   "metadata": {},
   "outputs": [],
   "source": []
  },
  {
   "cell_type": "code",
   "execution_count": null,
   "metadata": {},
   "outputs": [],
   "source": [
    "# hello = Label('hello, world', color='cyan', font_size=32, x=app.width, y=22)"
   ]
  },
  {
   "cell_type": "code",
   "execution_count": 88,
   "metadata": {},
   "outputs": [],
   "source": [
    "#@app.run_me_every(1/60)\n",
    "#def scroll(ct, dt):\n",
    "#    hello.x -= dt * 48\n",
    "#    if hello.right < 0:\n",
    "#        hello.x = app.width"
   ]
  },
  {
   "cell_type": "code",
   "execution_count": null,
   "metadata": {},
   "outputs": [],
   "source": []
  },
  {
   "cell_type": "code",
   "execution_count": null,
   "metadata": {},
   "outputs": [],
   "source": []
  },
  {
   "cell_type": "code",
   "execution_count": 83,
   "metadata": {},
   "outputs": [],
   "source": [
    "from enum import Enum\n",
    "import numpy as np\n",
    "import random\n",
    "\n",
    "class Terrain(Enum):\n",
    "    PLAIN = 1\n",
    "    HILL = 2\n",
    "    MOUNTAIN = 3\n",
    "    MEADOW = 4\n",
    "    FOREST = 5\n",
    "    DESERT = 6\n",
    "    COAST = 7\n",
    "    OCEAN = 8\n",
    "    BEACH = 9\n",
    "    LAKE = 10\n",
    "\n",
    "T = Terrain\n",
    "\n",
    "adjs = {\n",
    "    T.PLAIN: set([T.HILL, T.MEADOW, T.BEACH, T.DESERT]),\n",
    "    T.HILL: set([T.MOUNTAIN, T.LAKE]),\n",
    "    T.MOUNTAIN: set([T.HILL, T.LAKE]),\n",
    "    T.MEADOW: set([T.FOREST, T.PLAIN]),\n",
    "    T.FOREST: set([T.MEADOW]),\n",
    "    T.DESERT: set([T.PLAIN, T.HILL]),\n",
    "    T.COAST: set([T.OCEAN, T.BEACH]),\n",
    "    T.OCEAN: set([T.COAST]),\n",
    "    T.BEACH: set([T.COAST, T.BEACH, T.DESERT]),\n",
    "    T.LAKE: set([T.MOUNTAIN, T.HILL])\n",
    "}\n",
    "\n",
    "for k, v in list(adjs.items()):\n",
    "    adjs[k].add(k)\n",
    "    for k2 in v:\n",
    "        adjs[k2].add(k)\n",
    "\n",
    "def next_cell(t):\n",
    "    opts = np.vectorize(lambda o: 999 if len(o) == 1 else len(o), signature=\"()->()\")(t)\n",
    "\n",
    "    c = np.unravel_index(opts.argmin(), opts.shape)\n",
    "\n",
    "    if len(t[c]) > 1:\n",
    "        return c\n",
    "    else:\n",
    "        return None\n",
    "\n",
    "def adjacent(t, n):\n",
    "    for d in range(len(t.shape)):\n",
    "        r = list(n)\n",
    "        r[d] -= 1\n",
    "        if r[d] >= 0:\n",
    "            yield tuple(r)\n",
    "        r = list(n)\n",
    "        r[d] += 1\n",
    "        if r[d] < t.shape[d]:\n",
    "            yield tuple(r)\n",
    "\n",
    "def gen_terrain(w, h):\n",
    "    t = np.empty(shape=(w, h), dtype=np.object_)\n",
    "\n",
    "    for x in range(w):\n",
    "        for y in range(h):\n",
    "            t[x][y] = set(Terrain)\n",
    "\n",
    "    n = next_cell(t)\n",
    "\n",
    "    while n is not None:\n",
    "        opts = t[n]\n",
    "\n",
    "        pick = random.choice(list(opts))\n",
    "\n",
    "        t[n] = set([pick])\n",
    "\n",
    "        constraints = adjs[pick]\n",
    "\n",
    "        for a in adjacent(t, n):\n",
    "            t[a] = t[a].intersection(constraints)\n",
    "\n",
    "        n = next_cell(t)\n",
    "\n",
    "    return t"
   ]
  },
  {
   "cell_type": "code",
   "execution_count": 95,
   "metadata": {},
   "outputs": [],
   "source": [
    "t = gen_terrain(10, 10)"
   ]
  },
  {
   "cell_type": "code",
   "execution_count": 96,
   "metadata": {},
   "outputs": [
    {
     "data": {
      "text/plain": [
       "array([[{<Terrain.MOUNTAIN: 3>}, {<Terrain.MOUNTAIN: 3>},\n",
       "        {<Terrain.MOUNTAIN: 3>}, {<Terrain.HILL: 2>},\n",
       "        {<Terrain.HILL: 2>}, {<Terrain.LAKE: 10>}, {<Terrain.LAKE: 10>},\n",
       "        {<Terrain.HILL: 2>}, {<Terrain.HILL: 2>},\n",
       "        {<Terrain.MOUNTAIN: 3>}],\n",
       "       [{<Terrain.LAKE: 10>}, {<Terrain.MOUNTAIN: 3>},\n",
       "        {<Terrain.MOUNTAIN: 3>}, {<Terrain.MOUNTAIN: 3>},\n",
       "        {<Terrain.MOUNTAIN: 3>}, {<Terrain.MOUNTAIN: 3>},\n",
       "        {<Terrain.HILL: 2>}, {<Terrain.HILL: 2>}, {<Terrain.HILL: 2>},\n",
       "        {<Terrain.LAKE: 10>}],\n",
       "       [{<Terrain.LAKE: 10>}, {<Terrain.MOUNTAIN: 3>},\n",
       "        {<Terrain.LAKE: 10>}, {<Terrain.HILL: 2>},\n",
       "        {<Terrain.MOUNTAIN: 3>}, {<Terrain.MOUNTAIN: 3>},\n",
       "        {<Terrain.LAKE: 10>}, {<Terrain.LAKE: 10>},\n",
       "        {<Terrain.MOUNTAIN: 3>}, {<Terrain.LAKE: 10>}],\n",
       "       [{<Terrain.HILL: 2>}, {<Terrain.MOUNTAIN: 3>},\n",
       "        {<Terrain.MOUNTAIN: 3>}, {<Terrain.MOUNTAIN: 3>},\n",
       "        {<Terrain.MOUNTAIN: 3>}, {<Terrain.MOUNTAIN: 3>},\n",
       "        {<Terrain.HILL: 2>}, {<Terrain.LAKE: 10>},\n",
       "        {<Terrain.MOUNTAIN: 3>}, {<Terrain.HILL: 2>}],\n",
       "       [{<Terrain.LAKE: 10>}, {<Terrain.LAKE: 10>}, {<Terrain.HILL: 2>},\n",
       "        {<Terrain.LAKE: 10>}, {<Terrain.MOUNTAIN: 3>},\n",
       "        {<Terrain.LAKE: 10>}, {<Terrain.MOUNTAIN: 3>},\n",
       "        {<Terrain.LAKE: 10>}, {<Terrain.HILL: 2>}, {<Terrain.PLAIN: 1>}],\n",
       "       [{<Terrain.HILL: 2>}, {<Terrain.LAKE: 10>},\n",
       "        {<Terrain.MOUNTAIN: 3>}, {<Terrain.LAKE: 10>},\n",
       "        {<Terrain.MOUNTAIN: 3>}, {<Terrain.MOUNTAIN: 3>},\n",
       "        {<Terrain.MOUNTAIN: 3>}, {<Terrain.HILL: 2>},\n",
       "        {<Terrain.DESERT: 6>}, {<Terrain.BEACH: 9>}],\n",
       "       [{<Terrain.HILL: 2>}, {<Terrain.MOUNTAIN: 3>},\n",
       "        {<Terrain.LAKE: 10>}, {<Terrain.LAKE: 10>},\n",
       "        {<Terrain.MOUNTAIN: 3>}, {<Terrain.HILL: 2>},\n",
       "        {<Terrain.HILL: 2>}, {<Terrain.DESERT: 6>}, {<Terrain.BEACH: 9>},\n",
       "        {<Terrain.PLAIN: 1>}],\n",
       "       [{<Terrain.LAKE: 10>}, {<Terrain.HILL: 2>}, {<Terrain.LAKE: 10>},\n",
       "        {<Terrain.MOUNTAIN: 3>}, {<Terrain.LAKE: 10>},\n",
       "        {<Terrain.LAKE: 10>}, {<Terrain.HILL: 2>}, {<Terrain.HILL: 2>},\n",
       "        {<Terrain.DESERT: 6>}, {<Terrain.DESERT: 6>}],\n",
       "       [{<Terrain.MOUNTAIN: 3>}, {<Terrain.LAKE: 10>},\n",
       "        {<Terrain.LAKE: 10>}, {<Terrain.LAKE: 10>}, {<Terrain.HILL: 2>},\n",
       "        {<Terrain.LAKE: 10>}, {<Terrain.MOUNTAIN: 3>},\n",
       "        {<Terrain.MOUNTAIN: 3>}, {<Terrain.HILL: 2>},\n",
       "        {<Terrain.DESERT: 6>}],\n",
       "       [{<Terrain.LAKE: 10>}, {<Terrain.HILL: 2>}, {<Terrain.HILL: 2>},\n",
       "        {<Terrain.LAKE: 10>}, {<Terrain.MOUNTAIN: 3>},\n",
       "        {<Terrain.HILL: 2>}, {<Terrain.LAKE: 10>},\n",
       "        {<Terrain.MOUNTAIN: 3>}, {<Terrain.HILL: 2>},\n",
       "        {<Terrain.DESERT: 6>}]], dtype=object)"
      ]
     },
     "execution_count": 96,
     "metadata": {},
     "output_type": "execute_result"
    }
   ],
   "source": [
    "t"
   ]
  },
  {
   "cell_type": "code",
   "execution_count": 103,
   "metadata": {},
   "outputs": [
    {
     "data": {
      "application/vnd.jupyter.widget-view+json": {
       "model_id": "a21b6b8eb2be4d1eb492bdae2804ac40",
       "version_major": 2,
       "version_minor": 0
      },
      "text/plain": [
       "Image(value=b'\\xff\\xd8\\xff\\xe0\\x00\\x10JFIF\\x00\\x01\\x01\\x00\\x00\\x01\\x00\\x01\\x00\\x00\\xff\\xdb\\x00C\\x00\\x08\\x06\\x0…"
      ]
     },
     "metadata": {},
     "output_type": "display_data"
    }
   ],
   "source": [
    "app = App(width=640, height=640)\n",
    "\n",
    "labels = np.empty(shape=t.shape, dtype=np.object_)\n",
    "\n",
    "for x in range(labels.shape[0]):\n",
    "    for y in range(labels.shape[1]):\n",
    "        txt = next(iter(t[x, y])).name[0:3]\n",
    "        labels[x, y] = Label(txt, x=(x+1)*50, y=(y+1)*50)\n",
    "\n",
    "@app.event\n",
    "def render(ct, dt):\n",
    "    app.window.clear()\n",
    "    for x in range(labels.shape[0]):\n",
    "        for y in range(labels.shape[1]):\n",
    "            labels[x, y].draw()\n",
    "\n",
    "\n",
    "app.run()"
   ]
  },
  {
   "cell_type": "code",
   "execution_count": null,
   "metadata": {},
   "outputs": [],
   "source": []
  },
  {
   "cell_type": "code",
   "execution_count": null,
   "metadata": {},
   "outputs": [],
   "source": []
  }
 ],
 "metadata": {
  "kernelspec": {
   "display_name": "py39",
   "language": "python",
   "name": "python3"
  },
  "language_info": {
   "codemirror_mode": {
    "name": "ipython",
    "version": 3
   },
   "file_extension": ".py",
   "mimetype": "text/x-python",
   "name": "python",
   "nbconvert_exporter": "python",
   "pygments_lexer": "ipython3",
   "version": "3.9.0"
  },
  "orig_nbformat": 4,
  "vscode": {
   "interpreter": {
    "hash": "53b5819a6a678047d8bf1a47f48a5ac8f95682809dc8b7c560449bedce73fa2f"
   }
  }
 },
 "nbformat": 4,
 "nbformat_minor": 2
}
